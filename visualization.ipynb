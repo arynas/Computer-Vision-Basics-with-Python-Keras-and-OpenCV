{
 "cells": [
  {
   "cell_type": "markdown",
   "metadata": {},
   "source": [
    "## *Imports*"
   ]
  },
  {
   "cell_type": "code",
   "execution_count": 1,
   "metadata": {},
   "outputs": [
    {
     "name": "stdout",
     "output_type": "stream",
     "text": [
      "OpenCV Version: 4.2.0\n"
     ]
    },
    {
     "name": "stderr",
     "output_type": "stream",
     "text": [
      "Bad value in file '/Users/arynas/.matplotlib/matplotlibrc', line 1 ('backend: TkAggy'): Key backend: 'tkaggy' is not a valid value for backend; supported values are ['GTK3Agg', 'GTK3Cairo', 'GTK4Agg', 'GTK4Cairo', 'MacOSX', 'nbAgg', 'QtAgg', 'QtCairo', 'Qt5Agg', 'Qt5Cairo', 'TkAgg', 'TkCairo', 'WebAgg', 'WX', 'WXAgg', 'WXCairo', 'agg', 'cairo', 'pdf', 'pgf', 'ps', 'svg', 'template']\n"
     ]
    },
    {
     "name": "stdout",
     "output_type": "stream",
     "text": [
      "Keras image data format: channels_last\n"
     ]
    }
   ],
   "source": [
    "import sys # system functions (ie. exiting the program)\n",
    "import os # operating system functions (ie. path building on Windows vs. MacOs)\n",
    "import time # for time operations\n",
    "import uuid # for generating unique file names\n",
    "import math # math functions\n",
    "\n",
    "from IPython.display import display as ipydisplay, Image, clear_output, HTML # for interacting with the notebook better\n",
    "\n",
    "import numpy as np # matrix operations (ie. difference between two matricies)\n",
    "import cv2 # (OpenCV) computer vision functions (ie. tracking)\n",
    "(major_ver, minor_ver, subminor_ver) = (cv2.__version__).split('.')\n",
    "print('OpenCV Version: {}.{}.{}'.format(major_ver, minor_ver, subminor_ver))\n",
    "\n",
    "import matplotlib.pyplot as plt # (optional) for plotting and showing images inline\n",
    "%matplotlib inline\n",
    "\n",
    "import keras # high level api to tensorflow (or theano, CNTK, etc.) and useful image preprocessing\n",
    "from keras import backend as K\n",
    "from keras.preprocessing.image import ImageDataGenerator, load_img, img_to_array\n",
    "from keras.models import Sequential, load_model, model_from_json\n",
    "from keras.layers import Dense, Dropout, Activation, Flatten\n",
    "from keras.layers import Conv2D, MaxPooling2D\n",
    "print('Keras image data format: {}'.format(K.image_data_format()))"
   ]
  },
  {
   "cell_type": "markdown",
   "metadata": {},
   "source": [
    "## *Constants*"
   ]
  },
  {
   "cell_type": "code",
   "execution_count": 2,
   "metadata": {},
   "outputs": [],
   "source": [
    "IMAGES_FOLDER = os.path.join('images') # images for visuals\n",
    "\n",
    "MODEL_PATH = os.path.join('model')\n",
    "MODEL_FILE = os.path.join(MODEL_PATH, 'hand_model_gray.hdf5') # path to model weights and architechture file\n",
    "MODEL_HISTORY = os.path.join(MODEL_PATH, 'model_history.txt') # path to model training history"
   ]
  },
  {
   "cell_type": "code",
   "execution_count": 3,
   "metadata": {},
   "outputs": [],
   "source": [
    "def bgrtorgb(image):\n",
    "    return cv2.cvtColor(image.copy(), cv2.COLOR_BGR2RGB)"
   ]
  },
  {
   "cell_type": "markdown",
   "metadata": {},
   "source": [
    "#### Jupyter Notebook image display"
   ]
  },
  {
   "cell_type": "code",
   "execution_count": 4,
   "metadata": {},
   "outputs": [],
   "source": [
    "def show_image(name):\n",
    "    \"\"\"\n",
    "    Showing image files.\n",
    "    \"\"\"\n",
    "    fname = os.path.join(IMAGES_FOLDER, name)\n",
    "    ipydisplay(Image(fname))"
   ]
  },
  {
   "cell_type": "code",
   "execution_count": 5,
   "metadata": {},
   "outputs": [],
   "source": [
    "def plot_image(image, figsize=(8,8), recolour=False):\n",
    "    \"\"\"\n",
    "    Plotting image matricies.\n",
    "    \"\"\"\n",
    "    if recolour: image = bgrtorgb(image)\n",
    "    plt.figure(figsize=figsize)\n",
    "    if image.shape[-1] == 3:\n",
    "        plt.imshow(image)\n",
    "    elif image.shape[-1] == 1 or len(image.shape) == 2:\n",
    "        plt.imshow(image, cmap='gray')\n",
    "    else:\n",
    "        raise Exception(\"Image has invalid shape.\")"
   ]
  },
  {
   "cell_type": "code",
   "execution_count": 6,
   "metadata": {},
   "outputs": [],
   "source": [
    "# Set up tracker.\n",
    "def setup_tracker(ttype):\n",
    "    tracker_types = ['BOOSTING', 'MIL', 'KCF', 'TLD', 'MEDIANFLOW', 'GOTURN']\n",
    "    tracker_type = tracker_types[ttype]\n",
    "\n",
    "    if tracker_type == 'BOOSTING':\n",
    "        tracker = cv2.TrackerBoosting_create()\n",
    "    if tracker_type == 'MIL':\n",
    "        tracker = cv2.TrackerMIL_create()\n",
    "    if tracker_type == 'KCF':\n",
    "        tracker = cv2.TrackerKCF_create()\n",
    "    if tracker_type == 'TLD':\n",
    "        tracker = cv2.TrackerTLD_create()\n",
    "    if tracker_type == 'MEDIANFLOW':\n",
    "        tracker = cv2.TrackerMedianFlow_create()\n",
    "    if tracker_type == 'GOTURN':\n",
    "        tracker = cv2.TrackerGOTURN_create()\n",
    "    \n",
    "    return tracker"
   ]
  },
  {
   "cell_type": "code",
   "execution_count": 7,
   "metadata": {},
   "outputs": [],
   "source": [
    "classes = {\n",
    "    0: 'fist',\n",
    "    1: 'five',\n",
    "    2: 'thumbsup',\n",
    "    3: 'yo'\n",
    "}\n",
    "\n",
    "# CURR_POSE = 'five'\n",
    "# DATA = 'training_data'\n",
    "\n",
    "# # Helper function for applying a mask to an array\n",
    "# def mask_array(array, imask):\n",
    "#     if array.shape[:2] != imask.shape:\n",
    "#         raise Exception(\"Shapes of input and imask are incompatible\")\n",
    "#     output = np.zeros_like(array, dtype=np.uint8)\n",
    "#     for i, row in enumerate(imask):\n",
    "#         output[i, row] = array[i, row]\n",
    "#     return output\n",
    "\n",
    "\n",
    "# # Begin capturing video\n",
    "# video = cv2.VideoCapture(1)\n",
    "# if not video.isOpened():\n",
    "#     print(\"Could not open video\")\n",
    "#     sys.exit()\n",
    "\n",
    "\n",
    "# # Read first frame\n",
    "# ok, frame = video.read()\n",
    "# if not ok:\n",
    "#     print(\"Cannot read video\")\n",
    "#     sys.exit()\n",
    "# # Use the first frame as an initial background frame\n",
    "# bg = frame.copy()\n",
    "\n",
    "\n",
    "# # Kernel for erosion and dilation of masks\n",
    "# kernel = np.ones((3,3),np.uint8)\n",
    "\n",
    "\n",
    "# # Tracking\n",
    "# # Bounding box -> (TopRightX, TopRightY, Width, Height)\n",
    "# bbox_initial = (60, 60, 170, 170)\n",
    "# bbox = bbox_initial\n",
    "# # Tracking status, -1 for not tracking, 0 for unsuccessful tracking, 1 for successful tracking\n",
    "# tracking = -1\n",
    "\n",
    "\n",
    "# # Text display positions\n",
    "# positions = {\n",
    "#     'hand_pose': (15, 40),\n",
    "#     'fps': (15, 20)\n",
    "# }\n",
    "\n",
    "\n",
    "# # Image count for file name\n",
    "# img_count = 0\n",
    "\n",
    "# # Capture, process, display loop    \n",
    "# while True:\n",
    "#     # Read a new frame\n",
    "#     ok, frame = video.read()\n",
    "#     display = frame.copy()\n",
    "#     if not ok:\n",
    "#         break\n",
    "        \n",
    "        \n",
    "#     # Start timer\n",
    "#     timer = cv2.getTickCount()\n",
    "\n",
    "    \n",
    "#     # Processing\n",
    "#     # First find the absolute difference between the two images\n",
    "#     diff = cv2.absdiff(bg, frame)\n",
    "#     mask = cv2.cvtColor(diff, cv2.COLOR_BGR2GRAY)\n",
    "#     # Threshold the mask\n",
    "#     th, thresh = cv2.threshold(mask, 10, 255, cv2.THRESH_BINARY)\n",
    "#     # Opening, closing and dilation\n",
    "#     opening = cv2.morphologyEx(thresh, cv2.MORPH_OPEN, kernel)\n",
    "#     closing = cv2.morphologyEx(opening, cv2.MORPH_CLOSE, kernel)\n",
    "#     img_dilation = cv2.dilate(closing, kernel, iterations=2)\n",
    "#     # Get mask indexes\n",
    "#     imask = img_dilation > 0\n",
    "#     # Get foreground from mask\n",
    "#     foreground = mask_array(frame, imask)\n",
    "#     foreground_display = foreground.copy()\n",
    "    \n",
    "    \n",
    "#     # If tracking is active, update the tracker\n",
    "#     if tracking != -1:\n",
    "#         tracking, bbox = tracker.update(foreground)\n",
    "#         tracking = int(tracking)\n",
    "        \n",
    "        \n",
    "#     # Use numpy array indexing to crop the foreground frame\n",
    "#     hand_crop = img_dilation[int(bbox[1]):int(bbox[1]+bbox[3]), int(bbox[0]):int(bbox[0]+bbox[2])]\n",
    "    \n",
    "        \n",
    "#     # Draw bounding box\n",
    "#     p1 = (int(bbox[0]), int(bbox[1]))\n",
    "#     p2 = (int(bbox[0] + bbox[2]), int(bbox[1] + bbox[3]))\n",
    "#     cv2.rectangle(foreground_display, p1, p2, (255, 0, 0), 2, 1)\n",
    "#     cv2.rectangle(display, p1, p2, (255, 0, 0), 2, 1)\n",
    "    \n",
    "        \n",
    "#     # Calculate Frames per second (FPS)\n",
    "#     fps = cv2.getTickFrequency() / (cv2.getTickCount() - timer)\n",
    "#     # Display FPS on frame\n",
    "#     cv2.putText(foreground_display, \"FPS : \" + str(int(fps)), positions['fps'], cv2.FONT_HERSHEY_SIMPLEX, 0.65, (50, 170, 50), 2)\n",
    "#     cv2.putText(display, \"FPS : \" + str(int(fps)), positions['fps'], cv2.FONT_HERSHEY_SIMPLEX, 0.65, (50, 170, 50), 2)\n",
    "    \n",
    "    \n",
    "#     # Display result\n",
    "#     cv2.imshow(\"display\", display)\n",
    "#     # Display diff\n",
    "#     cv2.imshow(\"diff\", diff)\n",
    "#     # Display thresh\n",
    "#     cv2.imshow(\"thresh\", thresh)\n",
    "#     # Display mask\n",
    "#     cv2.imshow(\"img_dilation\", img_dilation)\n",
    "#     try:\n",
    "#         # Display hand_crop\n",
    "#         cv2.imshow(\"hand_crop\", hand_crop)\n",
    "#     except:\n",
    "#         pass\n",
    "#     # Display foreground_display\n",
    "#     cv2.imshow(\"foreground_display\", foreground_display)\n",
    "    \n",
    "    \n",
    "#     k = cv2.waitKey(1) & 0xff\n",
    "    \n",
    "#     if k == 27: break # ESC pressed\n",
    "#     elif k == 114 or k == 112: \n",
    "#         # r pressed\n",
    "#         bg = frame.copy()\n",
    "#         bbox = bbox_initial\n",
    "#         tracking = -1\n",
    "#     elif k == 116:\n",
    "#         # t pressed\n",
    "#         # Initialize tracker with first frame and bounding box\n",
    "#         tracker = setup_tracker(2)\n",
    "#         tracking = tracker.init(frame, bbox)\n",
    "#     elif k == 115:\n",
    "#         # s pressed\n",
    "#         img_count += 1\n",
    "#         fname = os.path.join(DATA, CURR_POSE, \"{}_{}.jpg\".format(CURR_POSE, img_count))\n",
    "#         print(fname, hand_crop)\n",
    "#         cv2.imwrite(fname, hand_crop)\n",
    "#         print()\n",
    "#     elif k != 255: print(k)\n",
    "        \n",
    "# cv2.destroyAllWindows()\n",
    "# video.release()"
   ]
  },
  {
   "cell_type": "markdown",
   "metadata": {},
   "source": [
    "### Building the Neural Network\n",
    "\n",
    "Here we assemble the neural network with keras and compile it for training.\n",
    "\n",
    "This is a very simple convolutional neural network containing three convolutional and max pooling layers. After a tensor is passed through the convolutional layers, it is flatted into a vector and passed through the dense layers."
   ]
  },
  {
   "cell_type": "code",
   "execution_count": 8,
   "metadata": {},
   "outputs": [
    {
     "name": "stderr",
     "output_type": "stream",
     "text": [
      "2022-02-13 18:40:12.278823: I tensorflow/core/platform/cpu_feature_guard.cc:151] This TensorFlow binary is optimized with oneAPI Deep Neural Network Library (oneDNN) to use the following CPU instructions in performance-critical operations:  AVX2 FMA\n",
      "To enable them in other operations, rebuild TensorFlow with the appropriate compiler flags.\n"
     ]
    }
   ],
   "source": [
    "model = Sequential()\n",
    "\n",
    "model.add(Conv2D(32, (3, 3), input_shape=(54, 54, 1)))\n",
    "model.add(Activation('relu'))\n",
    "model.add(MaxPooling2D(pool_size=(2, 2)))\n",
    "\n",
    "model.add(Conv2D(32, (3, 3)))\n",
    "model.add(Activation('relu'))\n",
    "model.add(MaxPooling2D(pool_size=(2, 2)))\n",
    "\n",
    "model.add(Conv2D(64, (3, 3)))\n",
    "model.add(Activation('relu'))\n",
    "model.add(MaxPooling2D(pool_size=(2, 2)))\n",
    "\n",
    "model.add(Flatten())\n",
    "model.add(Dense(64))\n",
    "model.add(Activation('relu'))\n",
    "model.add(Dropout(0.5))\n",
    "model.add(Dense(4))\n",
    "model.add(Activation('softmax'))\n",
    "\n",
    "model.compile(loss='categorical_crossentropy',\n",
    "              optimizer='adam',\n",
    "              metrics=['accuracy'])"
   ]
  },
  {
   "cell_type": "markdown",
   "metadata": {},
   "source": [
    "### Preparing Data for Training\n",
    "\n",
    "Here we use the keras data generator to augment data. This loads data and applies certain transformations to it in order to improve generalization of the model.\n",
    "\n",
    "The ImageDataGenerator.flow_from_directory() is a convenience method that prepares classification data according to file directories.\n",
    "\n",
    "Training data is used to train the model to recognize gestures and validation data is used to verify that the model is not over fitting to the training data and the network is converging."
   ]
  },
  {
   "cell_type": "code",
   "execution_count": 9,
   "metadata": {},
   "outputs": [
    {
     "name": "stdout",
     "output_type": "stream",
     "text": [
      "Found 1792 images belonging to 4 classes.\n",
      "Found 179 images belonging to 4 classes.\n"
     ]
    }
   ],
   "source": [
    "batch_size = 16\n",
    "\n",
    "training_datagen = ImageDataGenerator(\n",
    "    rotation_range=50,\n",
    "    width_shift_range=0.1,\n",
    "    height_shift_range=0.1,\n",
    "    shear_range=0.2,\n",
    "    zoom_range=0.2,\n",
    "    horizontal_flip=True,\n",
    "    fill_mode='nearest'\n",
    ")\n",
    "\n",
    "validation_datagen = ImageDataGenerator(zoom_range=0.2, rotation_range=10)\n",
    "\n",
    "training_generator = training_datagen.flow_from_directory(\n",
    "    'training_data',\n",
    "    target_size=(54, 54),\n",
    "    batch_size=batch_size,\n",
    "    color_mode='grayscale'\n",
    ")\n",
    "\n",
    "validation_generator = validation_datagen.flow_from_directory(\n",
    "    'validation_data',\n",
    "    target_size=(54, 54),\n",
    "    batch_size=batch_size,\n",
    "    color_mode='grayscale'\n",
    ")"
   ]
  },
  {
   "cell_type": "code",
   "execution_count": 10,
   "metadata": {},
   "outputs": [],
   "source": [
    "# img = load_img('training_data/swing/swing_111.jpg')  # this is a PIL image\n",
    "# x = img_to_array(img)  # this is a Numpy array with shape (3, 150, 150)\n",
    "# x = x.reshape((1,) + x.shape)  # this is a Numpy array with shape (1, 3, 150, 150)\n",
    "\n",
    "# # the .flow() command below generates batches of randomly transformed images\n",
    "# # and saves the results to the `preview/` directory\n",
    "# i = 0\n",
    "# for batch in training_datagen.flow(x, batch_size=1,\n",
    "#                           save_to_dir='images/preview', save_prefix='fist', save_format='jpeg'):\n",
    "#     i += 1\n",
    "#     if i > 20:\n",
    "#         break"
   ]
  },
  {
   "cell_type": "markdown",
   "metadata": {},
   "source": [
    "### Training the Network\n",
    "\n",
    "Now we can train the model on the augmented data."
   ]
  },
  {
   "cell_type": "code",
   "execution_count": 11,
   "metadata": {
    "scrolled": true
   },
   "outputs": [
    {
     "name": "stdout",
     "output_type": "stream",
     "text": [
      "Epoch 1/50\n"
     ]
    },
    {
     "name": "stderr",
     "output_type": "stream",
     "text": [
      "/Users/arynas/.virtualenvs/jrobchin_Computer-Vision-Basics-with-Python-Keras-and-OpenCV/lib/python3.7/site-packages/ipykernel_launcher.py:8: UserWarning: `Model.fit_generator` is deprecated and will be removed in a future version. Please use `Model.fit`, which supports generators.\n",
      "  \n"
     ]
    },
    {
     "name": "stdout",
     "output_type": "stream",
     "text": [
      "125/125 [==============================] - 6s 38ms/step - loss: 3.7958 - accuracy: 0.4375 - val_loss: 1.1320 - val_accuracy: 0.4525\n",
      "Epoch 2/50\n",
      "125/125 [==============================] - 5s 36ms/step - loss: 0.9703 - accuracy: 0.5300 - val_loss: 0.4722 - val_accuracy: 0.8939\n",
      "Epoch 3/50\n",
      "125/125 [==============================] - 4s 35ms/step - loss: 0.8125 - accuracy: 0.6130 - val_loss: 0.3848 - val_accuracy: 0.8436\n",
      "Epoch 4/50\n",
      "125/125 [==============================] - 5s 36ms/step - loss: 0.7026 - accuracy: 0.6800 - val_loss: 0.1702 - val_accuracy: 0.9609\n",
      "Epoch 5/50\n",
      "125/125 [==============================] - 5s 42ms/step - loss: 0.6149 - accuracy: 0.7135 - val_loss: 0.1203 - val_accuracy: 0.9777\n",
      "Epoch 6/50\n",
      "125/125 [==============================] - 6s 45ms/step - loss: 0.5934 - accuracy: 0.7080 - val_loss: 0.0726 - val_accuracy: 0.9832\n",
      "Epoch 7/50\n",
      "125/125 [==============================] - 6s 46ms/step - loss: 0.5224 - accuracy: 0.7535 - val_loss: 0.0727 - val_accuracy: 0.9888\n",
      "Epoch 8/50\n",
      "125/125 [==============================] - 6s 45ms/step - loss: 0.4620 - accuracy: 0.7935 - val_loss: 0.0664 - val_accuracy: 0.9832\n",
      "Epoch 9/50\n",
      "125/125 [==============================] - 5s 41ms/step - loss: 0.4355 - accuracy: 0.7955 - val_loss: 0.0243 - val_accuracy: 0.9944\n",
      "Epoch 10/50\n",
      "125/125 [==============================] - 6s 45ms/step - loss: 0.4318 - accuracy: 0.8050 - val_loss: 0.0302 - val_accuracy: 0.9944\n",
      "Epoch 11/50\n",
      "125/125 [==============================] - 6s 49ms/step - loss: 0.3565 - accuracy: 0.8120 - val_loss: 0.0190 - val_accuracy: 1.0000\n",
      "Epoch 12/50\n",
      "125/125 [==============================] - 6s 47ms/step - loss: 0.3654 - accuracy: 0.8135 - val_loss: 0.0337 - val_accuracy: 0.9944\n",
      "Epoch 13/50\n",
      "125/125 [==============================] - 7s 51ms/step - loss: 0.3630 - accuracy: 0.8195 - val_loss: 0.0227 - val_accuracy: 0.9944\n",
      "Epoch 14/50\n",
      "125/125 [==============================] - 7s 57ms/step - loss: 0.3042 - accuracy: 0.8495 - val_loss: 0.0414 - val_accuracy: 0.9888\n",
      "Epoch 15/50\n",
      "125/125 [==============================] - 8s 62ms/step - loss: 0.3176 - accuracy: 0.8455 - val_loss: 0.0087 - val_accuracy: 1.0000\n",
      "Epoch 16/50\n",
      "125/125 [==============================] - 7s 56ms/step - loss: 0.3247 - accuracy: 0.8355 - val_loss: 0.0156 - val_accuracy: 1.0000\n",
      "Epoch 17/50\n",
      "125/125 [==============================] - 7s 56ms/step - loss: 0.3187 - accuracy: 0.8490 - val_loss: 0.0069 - val_accuracy: 0.9944\n",
      "Epoch 18/50\n",
      "125/125 [==============================] - 7s 53ms/step - loss: 0.2632 - accuracy: 0.8855 - val_loss: 0.0252 - val_accuracy: 0.9832\n",
      "Epoch 19/50\n",
      "125/125 [==============================] - 7s 58ms/step - loss: 0.2318 - accuracy: 0.8980 - val_loss: 0.0195 - val_accuracy: 0.9888\n",
      "Epoch 20/50\n",
      "125/125 [==============================] - 8s 66ms/step - loss: 0.1920 - accuracy: 0.9155 - val_loss: 0.0117 - val_accuracy: 1.0000\n",
      "Epoch 21/50\n",
      "125/125 [==============================] - 7s 57ms/step - loss: 0.1729 - accuracy: 0.9335 - val_loss: 0.0172 - val_accuracy: 0.9944\n",
      "Epoch 22/50\n",
      "125/125 [==============================] - 7s 52ms/step - loss: 0.1387 - accuracy: 0.9390 - val_loss: 0.0304 - val_accuracy: 0.9944\n",
      "Epoch 23/50\n",
      "125/125 [==============================] - 7s 54ms/step - loss: 0.1266 - accuracy: 0.9430 - val_loss: 0.0411 - val_accuracy: 0.9832\n",
      "Epoch 24/50\n",
      "125/125 [==============================] - 7s 52ms/step - loss: 0.1202 - accuracy: 0.9520 - val_loss: 0.0146 - val_accuracy: 0.9944\n",
      "Epoch 25/50\n",
      "125/125 [==============================] - 7s 52ms/step - loss: 0.1302 - accuracy: 0.9485 - val_loss: 0.0171 - val_accuracy: 0.9944\n",
      "Epoch 26/50\n",
      "125/125 [==============================] - 6s 50ms/step - loss: 0.1243 - accuracy: 0.9480 - val_loss: 0.0082 - val_accuracy: 1.0000\n",
      "Epoch 27/50\n",
      "125/125 [==============================] - 7s 58ms/step - loss: 0.1414 - accuracy: 0.9475 - val_loss: 0.0071 - val_accuracy: 1.0000\n",
      "Epoch 28/50\n",
      "125/125 [==============================] - 7s 57ms/step - loss: 0.1003 - accuracy: 0.9520 - val_loss: 0.0106 - val_accuracy: 0.9944\n",
      "Epoch 29/50\n",
      "125/125 [==============================] - 7s 54ms/step - loss: 0.1192 - accuracy: 0.9580 - val_loss: 0.0153 - val_accuracy: 0.9944\n",
      "Epoch 30/50\n",
      "125/125 [==============================] - 7s 51ms/step - loss: 0.0702 - accuracy: 0.9670 - val_loss: 0.0076 - val_accuracy: 1.0000\n",
      "Epoch 31/50\n",
      "125/125 [==============================] - 7s 51ms/step - loss: 0.1369 - accuracy: 0.9490 - val_loss: 0.0031 - val_accuracy: 1.0000\n",
      "Epoch 32/50\n",
      "125/125 [==============================] - 7s 56ms/step - loss: 0.0978 - accuracy: 0.9590 - val_loss: 0.0257 - val_accuracy: 0.9944\n",
      "Epoch 33/50\n",
      "125/125 [==============================] - 6s 50ms/step - loss: 0.0757 - accuracy: 0.9755 - val_loss: 0.0729 - val_accuracy: 0.9832\n",
      "Epoch 34/50\n",
      "125/125 [==============================] - 7s 53ms/step - loss: 0.0713 - accuracy: 0.9670 - val_loss: 0.0126 - val_accuracy: 0.9944\n",
      "Epoch 35/50\n",
      "125/125 [==============================] - 8s 61ms/step - loss: 0.0761 - accuracy: 0.9705 - val_loss: 0.0053 - val_accuracy: 1.0000\n",
      "Epoch 36/50\n",
      "125/125 [==============================] - 9s 69ms/step - loss: 0.0744 - accuracy: 0.9690 - val_loss: 0.0166 - val_accuracy: 0.9944\n",
      "Epoch 37/50\n",
      "125/125 [==============================] - 8s 64ms/step - loss: 0.0669 - accuracy: 0.9725 - val_loss: 0.0073 - val_accuracy: 0.9944\n",
      "Epoch 38/50\n",
      "125/125 [==============================] - 8s 63ms/step - loss: 0.1029 - accuracy: 0.9610 - val_loss: 0.0382 - val_accuracy: 0.9944\n",
      "Epoch 39/50\n",
      "125/125 [==============================] - 10s 82ms/step - loss: 0.0742 - accuracy: 0.9755 - val_loss: 0.0369 - val_accuracy: 0.9944\n",
      "Epoch 40/50\n",
      "125/125 [==============================] - 12s 91ms/step - loss: 0.0861 - accuracy: 0.9655 - val_loss: 0.0169 - val_accuracy: 0.9944\n",
      "Epoch 41/50\n",
      "125/125 [==============================] - 11s 87ms/step - loss: 0.0836 - accuracy: 0.9700 - val_loss: 0.0138 - val_accuracy: 0.9944\n",
      "Epoch 42/50\n",
      "125/125 [==============================] - 10s 82ms/step - loss: 0.0670 - accuracy: 0.9760 - val_loss: 0.0120 - val_accuracy: 0.9944\n",
      "Epoch 43/50\n",
      "125/125 [==============================] - 7s 53ms/step - loss: 0.0749 - accuracy: 0.9750 - val_loss: 0.0640 - val_accuracy: 0.9888\n",
      "Epoch 44/50\n",
      "125/125 [==============================] - 6s 47ms/step - loss: 0.0777 - accuracy: 0.9735 - val_loss: 0.0249 - val_accuracy: 0.9944\n",
      "Epoch 45/50\n",
      "125/125 [==============================] - 7s 57ms/step - loss: 0.0494 - accuracy: 0.9810 - val_loss: 0.0131 - val_accuracy: 0.9944\n",
      "Epoch 46/50\n",
      "125/125 [==============================] - 6s 50ms/step - loss: 0.0445 - accuracy: 0.9845 - val_loss: 0.0405 - val_accuracy: 0.9944\n",
      "Epoch 47/50\n",
      "125/125 [==============================] - 7s 52ms/step - loss: 0.0375 - accuracy: 0.9840 - val_loss: 0.0300 - val_accuracy: 0.9944\n",
      "Epoch 48/50\n",
      "125/125 [==============================] - 7s 58ms/step - loss: 0.0823 - accuracy: 0.9675 - val_loss: 0.0802 - val_accuracy: 0.9665\n",
      "Epoch 49/50\n",
      "125/125 [==============================] - 7s 59ms/step - loss: 0.0540 - accuracy: 0.9740 - val_loss: 0.0718 - val_accuracy: 0.9777\n",
      "Epoch 50/50\n",
      "125/125 [==============================] - 7s 52ms/step - loss: 0.0764 - accuracy: 0.9775 - val_loss: 0.0164 - val_accuracy: 0.9888\n"
     ]
    },
    {
     "data": {
      "text/plain": [
       "<keras.callbacks.History at 0x13440b898>"
      ]
     },
     "execution_count": 11,
     "metadata": {},
     "output_type": "execute_result"
    }
   ],
   "source": [
    "model.fit_generator(\n",
    "    generator=training_generator,\n",
    "    steps_per_epoch=2000 // batch_size,\n",
    "    epochs=50,\n",
    "    verbose=1,\n",
    "    validation_data=validation_generator,\n",
    "    validation_steps=200 // batch_size,\n",
    "    workers=8,\n",
    ")"
   ]
  },
  {
   "cell_type": "markdown",
   "metadata": {},
   "source": [
    "### Plotting Model History\n",
    "\n",
    "Reading in the model fitting output and plotting the results."
   ]
  },
  {
   "cell_type": "code",
   "execution_count": 12,
   "metadata": {
    "scrolled": false
   },
   "outputs": [
    {
     "data": {
      "text/plain": [
       "[<matplotlib.lines.Line2D at 0x134d6b7b8>]"
      ]
     },
     "execution_count": 12,
     "metadata": {},
     "output_type": "execute_result"
    },
    {
     "data": {
      "image/png": "[encoded data removed]",
      "text/plain": [
       "<Figure size 432x288 with 1 Axes>"
      ]
     },
     "metadata": {
      "needs_background": "light"
     },
     "output_type": "display_data"
    },
    {
     "data": {
      "image/png": "[encoded data removed]",
      "text/plain": [
       "<Figure size 432x288 with 1 Axes>"
      ]
     },
     "metadata": {
      "needs_background": "light"
     },
     "output_type": "display_data"
    },
    {
     "data": {
      "image/png": "[encoded data removed]",
      "text/plain": [
       "<Figure size 432x288 with 1 Axes>"
      ]
     },
     "metadata": {
      "needs_background": "light"
     },
     "output_type": "display_data"
    },
    {
     "data": {
      "image/png": "[encoded data removed]",
      "text/plain": [
       "<Figure size 432x288 with 1 Axes>"
      ]
     },
     "metadata": {
      "needs_background": "light"
     },
     "output_type": "display_data"
    }
   ],
   "source": [
    "import re\n",
    "with open(MODEL_HISTORY) as history_file:\n",
    "    history = history_file.read()\n",
    "\n",
    "data = {}\n",
    "\n",
    "data['acc'] = re.findall(' acc: ([0-9]+\\.[0-9]+)', history)\n",
    "data['loss'] = re.findall(' loss: ([0-9]+\\.[0-9]+)', history)\n",
    "data['val_acc'] = re.findall(' val_acc: ([0-9]+\\.[0-9]+)', history)\n",
    "data['val_loss'] = re.findall(' val_loss: ([0-9]+\\.[0-9]+)', history)\n",
    "\n",
    "for key, values in data.items():\n",
    "    for i, val in enumerate(values):\n",
    "        values[i] = float(val)\n",
    "\n",
    "plt.figure()\n",
    "plt.title(\"Training Loss\")\n",
    "plt.xlabel(\"Epoch #\")\n",
    "plt.ylabel(\"Loss\")\n",
    "plt.plot(data['loss'])\n",
    "\n",
    "\n",
    "plt.figure()\n",
    "plt.title(\"Training Accuracy\")\n",
    "plt.xlabel(\"Epoch #\")\n",
    "plt.ylabel(\"Accuracy\")\n",
    "plt.plot(data['acc'])\n",
    "\n",
    "\n",
    "plt.figure()\n",
    "plt.title(\"Validation Loss\")\n",
    "plt.xlabel(\"Epoch #\")\n",
    "plt.ylabel(\"Loss\")\n",
    "plt.plot(data['val_loss'])\n",
    "\n",
    "\n",
    "plt.figure()\n",
    "plt.title(\"Validation Accuracy\")\n",
    "plt.xlabel(\"Epoch #\")\n",
    "plt.ylabel(\"Accuracy\")\n",
    "plt.plot(data['val_acc'])"
   ]
  },
  {
   "cell_type": "code",
   "execution_count": 13,
   "metadata": {},
   "outputs": [],
   "source": [
    "model.save(\"model_flinty_black_white.hdf5\")"
   ]
  }
 ],
 "metadata": {
  "interpreter": {
   "hash": "46394442c7477cd62d0336765152b0e8fac0d43f2778f0df1f4986d26960157a"
  },
  "kernelspec": {
   "display_name": "Python 3.7.0 64-bit ('jrobchin_Computer-Vision-Basics-with-Python-Keras-and-OpenCV': virtualenv)",
   "name": "python3"
  },
  "language_info": {
   "codemirror_mode": {
    "name": "ipython",
    "version": 3
   },
   "file_extension": ".py",
   "mimetype": "text/x-python",
   "name": "python",
   "nbconvert_exporter": "python",
   "pygments_lexer": "ipython3",
   "version": "3.7.0"
  }
 },
 "nbformat": 4,
 "nbformat_minor": 2
}
